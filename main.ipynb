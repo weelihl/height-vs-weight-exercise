{
 "cells": [
  {
   "cell_type": "markdown",
   "id": "exposed-nightmare",
   "metadata": {
    "tags": []
   },
   "source": [
    "# Height vs Weight\n",
    "\n",
    "\n",
    "## Table of Contents\n",
    "1. Introduction\n",
    "1. Load data \n",
    "1. Understand the dataset\n",
    "1. Examine the data distribution (1-dimensional)\n",
    "    1. Height distribution by gender\n",
    "    1. Exercise: Weight distribution by gender\n",
    "1. Examine the data distribution (2-dimensional)\n",
    "    1. The relationship between height and weight\n",
    "    1. Calculate the Pearson's correlation coefficient between the men's height and weight\n",
    "    1. Exercise: Correlation between the women's height and weight\n",
    "1. References\n",
    "\n",
    "---\n",
    "\n",
    "## Introduction\n",
    "In this exercise, we will use a dataset that contains 10000 (artificial) measurements of height and weight for men and women (taken from the D. Conway's \"Machine-Learning for Hackers\" book).\n",
    "\n",
    "Pretending that we are the statisticians/data-scientists, we will examine this dataset to understand whether:\n",
    "- Is there any weight/height difference between men and women in this dataset?\n",
    "- For both gender, is there any relationship between the height and weight? e.g. A taller person tends to have a heavier weight.\n",
    "\n",
    "And in this exercise, you will learn:\n",
    "1. How to load a `.csv` data using a popular `Pandas` package.\n",
    "1. How to generate basic statistics to describe a dataset. \n",
    "1. How to plot graphs using the `Seaborn` package.\n",
    "1. How to calculate the correlation between two variables using the `Scipy` package.\n",
    "\n",
    "\n",
    "\n",
    "---"
   ]
  },
  {
   "cell_type": "markdown",
   "id": "general-garden",
   "metadata": {},
   "source": [
    "## Load data\n",
    "*(Check out the left navigation pane)* \n",
    "\n",
    "The dataset is stored in a file named `height_vs_weight_dataset.csv` using a popular comma-separated data format (.csv). \n",
    "Our first task in this section is to load the data using Python and examine the contents within the dataset."
   ]
  },
  {
   "cell_type": "code",
   "execution_count": null,
   "id": "median-episode",
   "metadata": {},
   "outputs": [],
   "source": [
    "# enable interactive mode on the matplotlib\n",
    "%matplotlib widget\n",
    "\n",
    "# import python packages\n",
    "import matplotlib.pyplot as plt\n",
    "import numpy as np\n",
    "import pandas as pd\n",
    "import seaborn as sns\n",
    "from scipy.stats import pearsonr\n",
    "from sklearn.linear_model import LinearRegression\n",
    "\n",
    "\n",
    "# set the default figure size for the graphs\n",
    "plt.rcParams['figure.figsize'] =(6,4)\n",
    "\n",
    "# load data\n",
    "data = pd.read_csv(\"height_vs_weight_data.csv\")"
   ]
  },
  {
   "cell_type": "markdown",
   "id": "incredible-radio",
   "metadata": {},
   "source": [
    "---"
   ]
  },
  {
   "cell_type": "markdown",
   "id": "induced-frederick",
   "metadata": {
    "tags": []
   },
   "source": [
    "## Understand the dataset\n",
    "After loading the data, the first step is to explore the dataset to understand:\n",
    "- the number of variables collected\n",
    "- the variable type (e.g. categorical or continuous)"
   ]
  },
  {
   "cell_type": "code",
   "execution_count": null,
   "id": "fourth-consultancy",
   "metadata": {},
   "outputs": [],
   "source": [
    "# number of men and women samples\n",
    "total_men_samples = data.query(\"Gender=='Male'\")[\"Gender\"].count()\n",
    "total_women_samples = data.query(\"Gender=='Female'\")[\"Gender\"].count()\n",
    "print(f\"\"\"The dataset contains height/weight measurements from {total_men_samples} men and {total_women_samples} women.\"\"\")"
   ]
  },
  {
   "cell_type": "code",
   "execution_count": null,
   "id": "unlimited-slope",
   "metadata": {
    "tags": []
   },
   "outputs": [],
   "source": [
    "# examine data structure\n",
    "# show 10 random samples from the dataset\n",
    "data.sample(10)"
   ]
  },
  {
   "cell_type": "markdown",
   "id": "saving-genius",
   "metadata": {},
   "source": [
    "From the table above, we can observe that there are three variables (or table columns) collected for each sample (or table row): `Gender`, `Weight` and `Height`.\n",
    "\n",
    "\n",
    "- `Gender` is a **categorical** variable with only two values: `Male` or `Female`.\n",
    "- `Weight` and `Height` are **numerical** variables that can take any continuous value.\n",
    "\n",
    "Understanding the variable types can help us deciding the kind of statistical models/tests/graphs to be used in a data analysis. However, this topic is beyond the scope of this exercise. For further reading, you may read the article by D. Richard, *\"Types of data\"* (url: https://www.nature.com/articles/6400501) to understand more variable types.\n",
    " "
   ]
  },
  {
   "cell_type": "markdown",
   "id": "acceptable-surprise",
   "metadata": {},
   "source": [
    "---\n",
    "## Examine the data distribution (1-dimensional)\n",
    "Histogram is a way to examine the probability distribution of a variable.\n",
    "\n",
    "### Height distribution by gender"
   ]
  },
  {
   "cell_type": "code",
   "execution_count": null,
   "id": "pressed-tennessee",
   "metadata": {},
   "outputs": [],
   "source": [
    "# plot a histogram with x-axis represents the Height and color represents different Gene\n",
    "plt.figure()\n",
    "g = sns.histplot(data=data, x=\"Height\", hue=\"Gender\")\n",
    "g.set_xlabel(\"Height (cm)\")"
   ]
  },
  {
   "cell_type": "markdown",
   "id": "occupational-insurance",
   "metadata": {},
   "source": [
    "In the histogram above, each bar represents the number of samples occur within a particular height range (or sometimes called \"bin\"). For example, for the women's data (orange-coloured bars), there are 508 out of 5000 women whose heights are between 135 and 140 cm."
   ]
  },
  {
   "cell_type": "code",
   "execution_count": null,
   "id": "framed-consumer",
   "metadata": {},
   "outputs": [],
   "source": [
    "# calculate the mean and std of height for men and women\n",
    "variable = \"Height\"\n",
    "mean_height = dict()\n",
    "std_height = dict()\n",
    "\n",
    "for gender in [\"Male\", \"Female\"]:\n",
    "    #1. find the data belong to a gender, \n",
    "    #2. then grab the value from the relevant variable,\n",
    "    #3. calculate the mean/std of the variable\n",
    "    #4. round the mean/std value to 2 decimal points.\n",
    "    mean_height[gender] = np.round(data.query(f\"Gender=='{gender}'\")[variable].mean(),2)\n",
    "    std_height[gender] = np.round(data.query(f\"Gender=='{gender}'\")[variable].std(),2)\n",
    "    \n",
    "    print(f\"Height for '{gender}', mean: {mean_height[gender]} cm, std: {std_height[gender]} cm\")\n",
    "print(\"\\n\")"
   ]
  },
  {
   "cell_type": "markdown",
   "id": "familiar-commonwealth",
   "metadata": {},
   "source": [
    "`Mean` is a way of measuring the central tendency of the value of a variable. From the above calculation, we can tell that the average men height is 187.02 cm, which is higher than the average women height of 135.86 cm.\n",
    "\n",
    "`Variance` is a way of measuring the spread of the variable values. The `variance` of 19.78 cm tell us that not all the men has the height of 187.02 cm. In fact, assuming that the data is Gaussian distributed, 68% of the men's height is between 187.02 +/- 19.78 cm.\n"
   ]
  },
  {
   "cell_type": "markdown",
   "id": "hidden-facing",
   "metadata": {},
   "source": [
    "### Exercise: Weight distribution by gender\n",
    "In this exercise, we would like to understand whether there is any body **weight** difference between men and women.\n",
    "\n",
    "**Hint**: Replace the \"__\" in the following codes with a proper variable name"
   ]
  },
  {
   "cell_type": "code",
   "execution_count": null,
   "id": "dirty-vermont",
   "metadata": {},
   "outputs": [],
   "source": [
    "plt.figure()\n",
    "g = sns.histplot(data=data, x=\"__\", hue=\"Gender\") # hint: replace \"__\" here\n",
    "g.set_xlabel(\"Weight (kg)\")"
   ]
  },
  {
   "cell_type": "markdown",
   "id": "orange-trustee",
   "metadata": {},
   "source": [
    "**Hint**: Replace the \"__\" in the following codes with a proper variable name"
   ]
  },
  {
   "cell_type": "code",
   "execution_count": null,
   "id": "eligible-blowing",
   "metadata": {},
   "outputs": [],
   "source": [
    "#Here, we use a less-complicated code.\n",
    "average_male_weight = data.query(\"Gender=='Male'\")[\"__\"].mean()  # hint: replace \"__\" here\n",
    "average_female_weight = data.query(\"Gender=='Female'\")[\"__\"].mean()  # hint: replace \"__\" here\n",
    "\n",
    "print(f\"\"\"The average weight for:\n",
    "male:   {average_male_weight:.2f} kg, \n",
    "female: {average_female_weight:.2f} kg\n",
    "weight difference = {average_male_weight-average_female_weight:.2f} kg\"\"\")\n"
   ]
  },
  {
   "cell_type": "markdown",
   "id": "bizarre-lottery",
   "metadata": {},
   "source": [
    "**Questions**:\n",
    "1. Is the men's weight different from the women's weight?\n",
    "2. (Extra) Is the difference huge? How much difference should it be to be considered as a huge (or significant) difference?"
   ]
  },
  {
   "cell_type": "markdown",
   "id": "lasting-paintball",
   "metadata": {},
   "source": [
    "---"
   ]
  },
  {
   "cell_type": "markdown",
   "id": "major-fifth",
   "metadata": {},
   "source": [
    "## Examine the data distribution (2-dimensional)\n",
    "### The relationship between height and weight\n",
    "One way to examine the relationship between height and weight is through plotting a scatterplot."
   ]
  },
  {
   "cell_type": "code",
   "execution_count": null,
   "id": "mobile-significance",
   "metadata": {},
   "outputs": [],
   "source": [
    "# Examine the data distribution\n",
    "plt.figure()\n",
    "g = sns.scatterplot(data=data, x=\"Weight\", y=\"Height\", hue=\"Gender\", alpha=.5)\n",
    "g.set_xlabel(\"Weight (kg)\")\n",
    "g.set_ylabel(\"Height (cm)\")\n",
    "\n",
    "g.hlines(y=175, xmin=50, xmax=80, linestyle='--', color='r')\n",
    "g.hlines(y=100, xmin=50, xmax=80, linestyle='--', color='b')"
   ]
  },
  {
   "cell_type": "markdown",
   "id": "addressed-decision",
   "metadata": {},
   "source": [
    "In the above graph, each point represents a sample with its weight and height. The graph region with a higher number of points means that there are more samples distributed around that particular region. \n",
    "\n",
    "From the graph, we can observe that for both men and women, there is a tendency that when a person is taller, his/her body weight is heavier.\n",
    "\n",
    "For example, \n",
    "- for a woman with a height of 100 cm (*blue horizontal line*), her body weight is roughly between 55 and 63 kg. \n",
    "- for a woman with a height of 175 cm (*red horizontal line*), her body weight is roughly between 65 and 70 kg. \n",
    "\n",
    "**Extra:**\n",
    "\n",
    "From the graph, we can tell that both men and women's data are Gaussian/Normal distributed since the shape of their data distribution is elliptic. Knowing the data distribution can be useful especially when comes to determining the suitable statistical test/model. However, the discussion on the types of data distribution and their associated statistical tests is beyond the scope of this exercise."
   ]
  },
  {
   "cell_type": "markdown",
   "id": "placed-living",
   "metadata": {},
   "source": [
    "### Calculate the Pearson's correlation coefficient between the men's height and weight\n",
    "While we observed a trend between height and weight in both genders, is there a way to quantify the relationship?\n",
    "In this section, we use a method called Pearson's correlation to calculate the strength of the relationship between the height and weight in both genders.\n",
    "\n",
    "Pearson correlation test provides us a ***r*** value between -1.0 and 1.0. The correlation value can be interpreted as follows:\n",
    "\n",
    "| r    | Interpretation                  |\n",
    "|------|---------------------------------|\n",
    "| -1.0 | a perfect negative relationship |\n",
    "| 0.0  | no relationship                 |\n",
    "| 1.0  | a perfect positive relationship |"
   ]
  },
  {
   "cell_type": "code",
   "execution_count": null,
   "id": "compatible-consortium",
   "metadata": {},
   "outputs": [],
   "source": [
    "# find the men data\n",
    "male_data = data.query(\"Gender=='Male'\")\n",
    "\n",
    "# calculate the Pearson's Correlation between the weight and height of the men\n",
    "corr, _ = pearsonr(male_data[\"Weight\"], male_data[\"Height\"])\n",
    "print('Pearsons correlation, r: %.3f' % corr)"
   ]
  },
  {
   "cell_type": "markdown",
   "id": "exotic-marriage",
   "metadata": {},
   "source": [
    "The correlation value of **0.863** suggested that there is a strong positive relationship between body's weight and height in Men. Or in other words, mens' weight tend to increase with their heights."
   ]
  },
  {
   "cell_type": "markdown",
   "id": "floppy-kazakhstan",
   "metadata": {},
   "source": [
    "### Exercise: Correlation between the women's height and weight\n",
    "Now, repeat the step above and find whether there is any relationship between women's height and weight.\n",
    "\n",
    "**Hint**: Replace the \"__\" in the following codes with a proper gender value"
   ]
  },
  {
   "cell_type": "code",
   "execution_count": null,
   "id": "heard-update",
   "metadata": {},
   "outputs": [],
   "source": [
    "# find the women data\n",
    "subset = data.query(\"Gender=='__'\") # hint: replace \"__\" here\n",
    "\n",
    "# calculate the Pearson's Correlation between the weight and height of the women\n",
    "corr, _ = pearsonr(subset[\"Weight\"], subset[\"Height\"])\n",
    "print('Pearsons correlation, r: %.3f' % corr)"
   ]
  },
  {
   "cell_type": "markdown",
   "id": "brutal-patient",
   "metadata": {},
   "source": [
    "---\n",
    "## References\n",
    "- Steven Buechler, \"Study of Height vs Weight\", from the \"Computing with Data\" seminar (https://www3.nd.edu/~steve/computing_with_data/2_Motivation/motivate_ht_wt.html)\n",
    "- Drew Conway and John Myles White, \"Height vs Weight\" dataset from the \"Machine-Learning for Hackers\" textbook"
   ]
  }
 ],
 "metadata": {
  "kernelspec": {
   "display_name": "Python 3",
   "language": "python",
   "name": "python3"
  },
  "language_info": {
   "codemirror_mode": {
    "name": "ipython",
    "version": 3
   },
   "file_extension": ".py",
   "mimetype": "text/x-python",
   "name": "python",
   "nbconvert_exporter": "python",
   "pygments_lexer": "ipython3",
   "version": "3.8.8"
  }
 },
 "nbformat": 4,
 "nbformat_minor": 5
}
